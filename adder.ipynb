{
 "cells": [
  {
   "cell_type": "markdown",
   "metadata": {},
   "source": [
    "## Qubit Adder"
   ]
  },
  {
   "cell_type": "code",
   "execution_count": 5,
   "metadata": {},
   "outputs": [
    {
     "name": "stdout",
     "output_type": "stream",
     "text": [
      "The autoreload extension is already loaded. To reload it, use:\n",
      "  %reload_ext autoreload\n"
     ]
    }
   ],
   "source": [
    "%load_ext autoreload\n",
    "%autoreload 2\n",
    "\n",
    "import qiskit\n",
    "import common\n",
    "import gates\n",
    "import constants\n"
   ]
  },
  {
   "cell_type": "code",
   "execution_count": 6,
   "metadata": {},
   "outputs": [
    {
     "name": "stdout",
     "output_type": "stream",
     "text": [
      "13 qubits used\n"
     ]
    }
   ],
   "source": [
    "# Create quantum registers\n",
    "creq = []\n",
    "areq = []\n",
    "breq = []\n",
    "for i in range(constants.bits):\n",
    "    creq.append(qiskit.QuantumRegister(1, f\"c{i}\"))\n",
    "    areq.append(qiskit.QuantumRegister(1, f\"a{i}\"))\n",
    "    breq.append(qiskit.QuantumRegister(1, f\"b{i}\"))\n",
    "breq.append(qiskit.QuantumRegister(1, f\"b{constants.bits}\"))\n",
    "\n",
    "\n",
    "# Combine quantum registers into a single list\n",
    "req = []\n",
    "for i in range(constants.bits):\n",
    "    req.append(creq[i])\n",
    "    req.append(areq[i])\n",
    "    req.append(breq[i])\n",
    "req.append(breq[constants.bits])\n",
    "\n",
    "classical_req = qiskit.ClassicalRegister(constants.bits + 1, \"results\")\n",
    "qc = qiskit.QuantumCircuit(*req, classical_req)\n",
    "\n",
    "# Add X gates to set the initial values\n",
    "for i in range(constants.bits):\n",
    "    if constants.a[::-1][i] == \"1\":\n",
    "        qc.x(areq[i])\n",
    "    if constants.b[::-1][i] == \"1\":\n",
    "        qc.x(breq[i])\n",
    "\n",
    "# Add the carry and sum gates\n",
    "for i in range(constants.bits):\n",
    "    if i != constants.bits - 1:\n",
    "        qc.append(gates.carry, [creq[i], areq[i], breq[i], creq[i + 1]])\n",
    "    else:\n",
    "        qc.append(gates.carry, [creq[i], areq[i], breq[i], breq[i + 1]])\n",
    "        qc.cx(areq[i], breq[i])\n",
    "\n",
    "for i in reversed(range(constants.bits)):\n",
    "    qc.append(gates.sum, [creq[i], areq[i], breq[i]])\n",
    "    if i != 0:\n",
    "        qc.append(gates.reverse_carry, [creq[i - 1], areq[i - 1], breq[i - 1], creq[i]])\n",
    "\n",
    "print(f\"{qc.num_qubits} qubits used\")\n",
    "\n",
    "for i in range(constants.bits + 1):\n",
    "    qc.measure(breq[i], classical_req[i])\n",
    "\n",
    "# qc.draw(\"mpl\")"
   ]
  },
  {
   "cell_type": "code",
   "execution_count": null,
   "metadata": {},
   "outputs": [
    {
     "name": "stdout",
     "output_type": "stream",
     "text": [
      "Sum: 00011\n"
     ]
    }
   ],
   "source": [
    "simulator = common.SimulatedQuantumComputer(qc, 512)\n",
    "counts = simulator.run()\n",
    "print(f\"Sum: {simulator.most_common()}\")"
   ]
  },
  {
   "cell_type": "code",
   "execution_count": null,
   "metadata": {},
   "outputs": [
    {
     "ename": "StopExecution",
     "evalue": "",
     "output_type": "error",
     "traceback": []
    }
   ],
   "source": [
    "raise common.StopExecution\n",
    "\n",
    "simulator = common.RealQuantumComputer(qc, 512)\n",
    "counts = simulator.run(\"results\")\n",
    "print(f\"Backend: {simulator.backend_name()}\")\n",
    "print(f\"Most likely state: {simulator.most_common()}\")\n",
    "simulator.plot()"
   ]
  }
 ],
 "metadata": {
  "kernelspec": {
   "display_name": "venv",
   "language": "python",
   "name": "python3"
  },
  "language_info": {
   "codemirror_mode": {
    "name": "ipython",
    "version": 3
   },
   "file_extension": ".py",
   "mimetype": "text/x-python",
   "name": "python",
   "nbconvert_exporter": "python",
   "pygments_lexer": "ipython3",
   "version": "3.12.7"
  }
 },
 "nbformat": 4,
 "nbformat_minor": 2
}
