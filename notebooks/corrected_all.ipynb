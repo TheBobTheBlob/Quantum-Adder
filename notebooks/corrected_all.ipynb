{
 "cells": [
  {
   "cell_type": "markdown",
   "metadata": {},
   "source": [
    "## Error Corrected After Every Gate Qubit Adder"
   ]
  },
  {
   "cell_type": "code",
   "execution_count": 5,
   "metadata": {},
   "outputs": [
    {
     "name": "stdout",
     "output_type": "stream",
     "text": [
      "The autoreload extension is already loaded. To reload it, use:\n",
      "  %reload_ext autoreload\n"
     ]
    }
   ],
   "source": [
    "%load_ext autoreload\n",
    "%autoreload 2\n",
    "\n",
    "import qiskit\n",
    "import helpers.common as common\n",
    "import helpers.gates as gates\n",
    "import helpers.constants as constants"
   ]
  },
  {
   "cell_type": "code",
   "execution_count": 4,
   "metadata": {},
   "outputs": [
    {
     "name": "stdout",
     "output_type": "stream",
     "text": [
      "63 qubits used\n"
     ]
    }
   ],
   "source": [
    "# Create quantum registers\n",
    "creq_ca = []\n",
    "areq_ca = []\n",
    "breq_ca = []\n",
    "for i in range(constants.bits):\n",
    "    creq_ca.append(common.logical_register(f\"c{i}\"))\n",
    "    areq_ca.append(common.logical_register(f\"a{i}\"))\n",
    "    breq_ca.append(common.logical_register(f\"b{i}\"))\n",
    "breq_ca.append(common.logical_register(f\"b{constants.bits}\"))\n",
    "\n",
    "\n",
    "# Combine quantum registers into a single list\n",
    "req_ca = []\n",
    "for i in range(constants.bits):\n",
    "    req_ca.extend(creq_ca[i])\n",
    "    req_ca.extend(areq_ca[i])\n",
    "    req_ca.extend(breq_ca[i])\n",
    "req_ca.extend(breq_ca[constants.bits])\n",
    "\n",
    "classical_req = qiskit.ClassicalRegister(constants.bits + 1, \"result\")\n",
    "qc_ca = qiskit.QuantumCircuit(*req_ca, classical_req)\n",
    "\n",
    "# Add shor setup\n",
    "for i in range(constants.bits):\n",
    "    qc_ca = gates.add_shor_setup(qc_ca, creq_ca[i])\n",
    "    qc_ca = gates.add_shor_setup(qc_ca, areq_ca[i])\n",
    "    qc_ca = gates.add_shor_setup(qc_ca, breq_ca[i])\n",
    "qc_ca = gates.add_shor_setup(qc_ca, breq_ca[constants.bits])\n",
    "\n",
    "# Add X gates to set the initial values\n",
    "for i in range(constants.bits):\n",
    "    if constants.a[::-1][i] == \"1\":\n",
    "        qc_ca = gates.add_x(qc_ca, areq_ca[i])\n",
    "        qc_ca = gates.add_shor_teardown(qc_ca, areq_ca[i])\n",
    "    if constants.b[::-1][i] == \"1\":\n",
    "        qc_ca = gates.add_x(qc_ca, breq_ca[i])\n",
    "        qc_ca = gates.add_shor_teardown(qc_ca, breq_ca[i])\n",
    "\n",
    "\n",
    "# Add the carry and sum gates\n",
    "for i in range(constants.bits):\n",
    "    if i != constants.bits - 1:\n",
    "        qc_ca = gates.add_carry(qc_ca, creq_ca[i], areq_ca[i], breq_ca[i], creq_ca[i + 1])\n",
    "\n",
    "        qc_ca = gates.add_shor_teardown(qc_ca, creq_ca[i])\n",
    "        qc_ca = gates.add_shor_teardown(qc_ca, areq_ca[i])\n",
    "        qc_ca = gates.add_shor_teardown(qc_ca, breq_ca[i])\n",
    "        qc_ca = gates.add_shor_teardown(qc_ca, creq_ca[i + 1])\n",
    "    else:\n",
    "        qc_ca = gates.add_carry(qc_ca, creq_ca[i], areq_ca[i], breq_ca[i], breq_ca[i + 1])\n",
    "        qc_ca = gates.add_cx(qc_ca, areq_ca[i], breq_ca[i])\n",
    "\n",
    "        qc_ca = gates.add_shor_teardown(qc_ca, creq_ca[i])\n",
    "        qc_ca = gates.add_shor_teardown(qc_ca, areq_ca[i])\n",
    "        qc_ca = gates.add_shor_teardown(qc_ca, breq_ca[i])\n",
    "        qc_ca = gates.add_shor_teardown(qc_ca, breq_ca[i + 1])\n",
    "\n",
    "for i in reversed(range(constants.bits)):\n",
    "    qc_ca = gates.add_sum(qc_ca, creq_ca[i], areq_ca[i], breq_ca[i])\n",
    "\n",
    "    qc_ca = gates.add_shor_teardown(qc_ca, creq_ca[i])\n",
    "    qc_ca = gates.add_shor_teardown(qc_ca, areq_ca[i])\n",
    "    qc_ca = gates.add_shor_teardown(qc_ca, breq_ca[i])\n",
    "\n",
    "    if i != 0:\n",
    "        qc_ca = gates.add_reverse_carry(qc_ca, creq_ca[i - 1], areq_ca[i - 1], breq_ca[i - 1], creq_ca[i])\n",
    "\n",
    "        qc_ca = gates.add_shor_teardown(qc_ca, creq_ca[i - 1])\n",
    "        qc_ca = gates.add_shor_teardown(qc_ca, areq_ca[i - 1])\n",
    "        qc_ca = gates.add_shor_teardown(qc_ca, breq_ca[i - 1])\n",
    "        qc_ca = gates.add_shor_teardown(qc_ca, creq_ca[i])\n",
    "\n",
    "print(f\"{qc_ca.num_qubits} qubits used\")\n",
    "\n",
    "for i in range(constants.bits + 1):\n",
    "    qc_ca.measure(breq_ca[i][0], classical_req[i])\n",
    "\n",
    "# qc_ca.draw(\"mpl\")"
   ]
  },
  {
   "cell_type": "code",
   "execution_count": null,
   "metadata": {},
   "outputs": [
    {
     "name": "stdout",
     "output_type": "stream",
     "text": [
      "Backend: ibm_brisbane\n",
      "Most likely state: 00000\n"
     ]
    }
   ],
   "source": [
    "# raise common.StopExecution\n",
    "\n",
    "simulator_ca = common.RealQuantumComputer(qc_ca, 512)\n",
    "counts_ca = simulator_ca.run(\"result\")\n",
    "print(f\"Backend: {simulator_ca.backend_name()}\")\n",
    "print(f\"Most likely state: {simulator_ca.most_common()}\")\n",
    "\n",
    "simulator_ca.plot()"
   ]
  }
 ],
 "metadata": {
  "kernelspec": {
   "display_name": "venv",
   "language": "python",
   "name": "python3"
  },
  "language_info": {
   "codemirror_mode": {
    "name": "ipython",
    "version": 3
   },
   "file_extension": ".py",
   "mimetype": "text/x-python",
   "name": "python",
   "nbconvert_exporter": "python",
   "pygments_lexer": "ipython3",
   "version": "3.12.7"
  }
 },
 "nbformat": 4,
 "nbformat_minor": 2
}
