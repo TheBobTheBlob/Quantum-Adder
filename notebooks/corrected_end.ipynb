{
 "cells": [
  {
   "cell_type": "markdown",
   "metadata": {},
   "source": [
    "## Error Corrected At End Qubit Adder"
   ]
  },
  {
   "cell_type": "code",
   "execution_count": 1,
   "metadata": {},
   "outputs": [],
   "source": [
    "%load_ext autoreload\n",
    "%autoreload 2\n",
    "\n",
    "import qiskit\n",
    "import helpers.common as common\n",
    "import helpers.gates as gates\n",
    "import helpers.constants as constants"
   ]
  },
  {
   "cell_type": "code",
   "execution_count": null,
   "metadata": {},
   "outputs": [
    {
     "name": "stdout",
     "output_type": "stream",
     "text": [
      "117 qubits used\n"
     ]
    }
   ],
   "source": [
    "# Create quantum registers\n",
    "creq = []\n",
    "areq = []\n",
    "breq = []\n",
    "for i in range(constants.bits):\n",
    "    creq.append(common.logical_register(f\"c{i}\"))\n",
    "    areq.append(common.logical_register(f\"a{i}\"))\n",
    "    breq.append(common.logical_register(f\"b{i}\"))\n",
    "breq.append(common.logical_register(f\"b{constants.bits}\"))\n",
    "\n",
    "# Combine quantum registers into a single list\n",
    "req_ce = []\n",
    "for i in range(constants.bits):\n",
    "    req_ce.extend(creq[i])\n",
    "    req_ce.extend(areq[i])\n",
    "    req_ce.extend(breq[i])\n",
    "req_ce.extend(breq[constants.bits])\n",
    "\n",
    "\n",
    "\n",
    "classical_req_ec = qiskit.ClassicalRegister(constants.bits + 1, \"result\")\n",
    "qc = qiskit.QuantumCircuit(*req_ce, classical_req_ec)\n",
    "\n",
    "# Add shor setup\n",
    "for i in range(constants.bits):\n",
    "    qc = gates.add_shor_setup(qc, creq[i])\n",
    "    qc = gates.add_shor_setup(qc, areq[i])\n",
    "    qc = gates.add_shor_setup(qc, breq[i])\n",
    "qc = gates.add_shor_setup(qc, breq[constants.bits])\n",
    "\n",
    "# Add X gates to set the initial values\n",
    "for i in range(constants.bits):\n",
    "    if constants.a[::-1][i] == \"1\":\n",
    "        qc = gates.add_x(qc, areq[i])\n",
    "    if constants.b[::-1][i] == \"1\":\n",
    "        qc = gates.add_x(qc, breq[i])\n",
    "\n",
    "\n",
    "# Add the carry and sum gates\n",
    "for i in range(constants.bits):\n",
    "    if i != constants.bits - 1:\n",
    "        qc = gates.add_carry(qc, creq[i], areq[i], breq[i], creq[i + 1])\n",
    "    else:\n",
    "        qc = gates.add_carry(qc, creq[i], areq[i], breq[i], breq[i + 1])\n",
    "        qc = gates.add_cx(qc, areq[i], breq[i])\n",
    "\n",
    "for i in reversed(range(constants.bits)):\n",
    "    qc = gates.add_sum(qc, creq[i], areq[i], breq[i])\n",
    "\n",
    "    if i != 0:\n",
    "        qc = gates.add_reverse_carry(qc, creq[i - 1], areq[i - 1], breq[i - 1], creq[i])\n",
    "\n",
    "for i in range(constants.bits):\n",
    "    qc = gates.add_shor_teardown(qc, creq[i])\n",
    "    qc = gates.add_shor_teardown(qc, areq[i])\n",
    "    qc = gates.add_shor_teardown(qc, breq[i])\n",
    "qc = gates.add_shor_teardown(qc, breq[constants.bits])\n",
    "\n",
    "print(f\"{qc.num_qubits} qubits used\")\n",
    "\n",
    "for i in range(constants.bits + 1):\n",
    "    qc.measure(breq[i][0], classical_req_ec[i])\n",
    "\n",
    "# qc.draw(\"mpl\")"
   ]
  },
  {
   "cell_type": "code",
   "execution_count": null,
   "metadata": {},
   "outputs": [
    {
     "ename": "StopExecution",
     "evalue": "",
     "output_type": "error",
     "traceback": []
    }
   ],
   "source": [
    "raise common.StopExecution\n",
    "\n",
    "simulator = common.SimulatedQuantumComputer(qc, 512)\n",
    "counts = simulator.run()\n",
    "\n",
    "print(f\"Sum: {simulator.most_common()}\")"
   ]
  },
  {
   "cell_type": "code",
   "execution_count": null,
   "metadata": {},
   "outputs": [
    {
     "name": "stdout",
     "output_type": "stream",
     "text": [
      "Backend: ibm_brisbane\n",
      "Most likely state: 00010\n"
     ]
    }
   ],
   "source": [
    "# raise common.StopExecution\n",
    "\n",
    "simulator = common.RealQuantumComputer(qc, 512)\n",
    "counts = simulator.run(\"result\")\n",
    "\n",
    "print(f\"Backend: {simulator.backend_name()}\")\n",
    "print(f\"Most likely state: {simulator.most_common()}\")\n",
    "\n",
    "simulator.plot()"
   ]
  }
 ],
 "metadata": {
  "kernelspec": {
   "display_name": "venv",
   "language": "python",
   "name": "python3"
  },
  "language_info": {
   "codemirror_mode": {
    "name": "ipython",
    "version": 3
   },
   "file_extension": ".py",
   "mimetype": "text/x-python",
   "name": "python",
   "nbconvert_exporter": "python",
   "pygments_lexer": "ipython3",
   "version": "3.12.7"
  }
 },
 "nbformat": 4,
 "nbformat_minor": 2
}
